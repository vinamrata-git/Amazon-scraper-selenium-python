{
 "cells": [
  {
   "cell_type": "markdown",
   "id": "creative-application",
   "metadata": {},
   "source": [
    "# Scrape Data science books available on amazon using selenium and python "
   ]
  },
  {
   "cell_type": "code",
   "execution_count": 1,
   "id": "mental-madness",
   "metadata": {},
   "outputs": [],
   "source": [
    "#Necessary library importation\n",
    "import pandas as pd\n",
    "from selenium import webdriver\n",
    "from selenium.webdriver.chrome.service import Service\n",
    "from selenium.webdriver.common.by import By\n",
    "from webdriver_manager.chrome import ChromeDriverManager\n",
    "from selenium.webdriver.support.ui import WebDriverWait as wait\n",
    "from selenium.webdriver.support import expected_conditions as EC\n",
    "\n",
    "service = Service(executable_path='path\\chromedriver.exe')\n",
    "driver = webdriver.Chrome(executable_path='path\\chromedriver.exe')\n",
    "driver.implicitly_wait(1)\n",
    "\n",
    "link = \"\"\n",
    "product_name = []\n",
    "product_price = []\n",
    "product_ratings = []\n",
    "product_ratings_num = []\n",
    "product_link = []\n",
    "# for loop to iterate over each pages                         \n",
    "for i in range(1,51):\n",
    "    driver.get(f'https://www.amazon.com/s?k=Data+science+books&i=stripbooks&rh=n%3A283155%2Cp_n_feature_nine_browse-bin%3A3291437011&dc&page={i}&crid=3RJJC3J5VZT3C&qid=1662414684&rnid=3291435011&sprefix=data+science+books%2Caps%2C219&ref=sr_pg_1')\n",
    "    items = wait(driver, 10).until(EC.presence_of_all_elements_located((By.XPATH, '//div[contains(@class, \"s-result-item s-asin\")]')))\n",
    "    for item in items:\n",
    "        # Get the name of book\n",
    "        name = item.find_element(By.XPATH, './/span[@class=\"a-size-base-plus a-color-base a-text-normal\"]')\n",
    "        product_name.append(name.text)\n",
    "\n",
    "        # Get the price\n",
    "        whole_price = item.find_elements(By.XPATH, './/span[@class=\"a-price-whole\"]')\n",
    "        fraction_price = item.find_elements(By.XPATH, './/span[@class=\"a-price-fraction\"]')\n",
    "\n",
    "        if whole_price != [] and fraction_price != []:\n",
    "            price = '.'.join([whole_price[0].text, fraction_price[0].text])\n",
    "        else:\n",
    "            price = 0\n",
    "        product_price.append(price)\n",
    "\n",
    "        # find ratings box\n",
    "        ratings_box = item.find_elements(By.XPATH, './/div[@class=\"a-row a-size-small\"]/span')\n",
    "\n",
    "        # find ratings and ratings_num\n",
    "        if ratings_box != []:\n",
    "            ratings = ratings_box[0].get_attribute('aria-label')\n",
    "            ratings_num = ratings_box[1].get_attribute('aria-label')\n",
    "        else:\n",
    "            ratings, ratings_num = 0, 0\n",
    "\n",
    "        product_ratings.append(ratings)\n",
    "        product_ratings_num.append(str(ratings_num))\n",
    "\n",
    "        # Get the link\n",
    "        link = item.find_element(By.XPATH, './/a[@class=\"a-link-normal s-underline-text s-underline-link-text s-link-style a-text-normal\"]').get_attribute(\"href\")\n",
    "        product_link.append(link)\n",
    "\n",
    "driver.quit()\n",
    "\n",
    "# Print the information to check if the data is collected correctly\n",
    "#print(product_name)\n",
    "#print(product_price)\n",
    "#print(product_ratings)\n",
    "#print(product_ratings_num)\n",
    "#print(product_link)"
   ]
  },
  {
   "cell_type": "code",
   "execution_count": 2,
   "id": "quality-graduation",
   "metadata": {},
   "outputs": [],
   "source": [
    "# Store the data into a dataframe and save them in a csv file\n",
    "dict_df = {\"Nme of book\":product_name, \"Price\":product_price, \"Rating stars\":product_ratings, \"Rating count\": product_ratings_num, \"Link to the book\":product_link }\n",
    "df = pd.DataFrame(dict_df)\n",
    "df.to_csv(\"Data/Data_science_book.csv\")"
   ]
  }
 ],
 "metadata": {
  "kernelspec": {
   "display_name": "Python 3",
   "language": "python",
   "name": "python3"
  },
  "language_info": {
   "codemirror_mode": {
    "name": "ipython",
    "version": 3
   },
   "file_extension": ".py",
   "mimetype": "text/x-python",
   "name": "python",
   "nbconvert_exporter": "python",
   "pygments_lexer": "ipython3",
   "version": "3.7.6"
  }
 },
 "nbformat": 4,
 "nbformat_minor": 5
}
